{
 "cells": [
  {
   "cell_type": "code",
   "execution_count": null,
   "metadata": {
    "collapsed": true,
    "deletable": true,
    "editable": true
   },
   "outputs": [],
   "source": [
    "# Response_evaluation_mk15"
   ]
  },
  {
   "cell_type": "markdown",
   "metadata": {},
   "source": [
    "Script to evaluate engine response or LR\n",
    "\n",
    "Daniel T 2017-02-08\n",
    "\n",
    "Changelog\n",
    "\n",
    "17-06-05 - changed import to automaticly replace ECU --> no excel prep needed.\n",
    "           this is based on that the file is configured with param/desc/unit/data...\n",
    "\n",
    "17-05-16 - changed t60 -> t50\n",
    "\n",
    "17-04-10 - add if statement to fix if 90% tc_trq > max(trqdyn)"
   ]
  },
  {
   "cell_type": "markdown",
   "metadata": {},
   "source": [
    "Timer for time measurement"
   ]
  },
  {
   "cell_type": "code",
   "execution_count": null,
   "metadata": {
    "collapsed": true
   },
   "outputs": [],
   "source": [
    "import time \n",
    "startTime = time.time()"
   ]
  },
  {
   "cell_type": "markdown",
   "metadata": {},
   "source": [
    "Import necessary libraries"
   ]
  },
  {
   "cell_type": "code",
   "execution_count": null,
   "metadata": {
    "collapsed": true,
    "deletable": true,
    "editable": true
   },
   "outputs": [],
   "source": [
    "import os\n",
    "import matplotlib.pyplot as plt\n",
    "import numpy as np\n",
    "import pandas as pd\n",
    "\n",
    "%matplotlib inline  "
   ]
  },
  {
   "cell_type": "markdown",
   "metadata": {},
   "source": [
    "Find folder and file(s)"
   ]
  },
  {
   "cell_type": "code",
   "execution_count": null,
   "metadata": {
    "collapsed": false,
    "deletable": true,
    "editable": true
   },
   "outputs": [],
   "source": [
    "FilePath = 'C:\\Dokument - DT\\Python\\Respons\\Measdata' # Specify filepath where CSV files are located\n",
    "ResultPath = 'C:\\Dokument - DT\\Python\\Respons\\Resultat' # Specfy where to put excel files\n",
    "\n",
    "FileNames = [f for f in os.listdir(FilePath) if f.lower().endswith('.txt')] #Specify Filenames\n",
    "print (FilePath)\n",
    "print ('\\nFile/s in folder\\n')\n",
    "for i in enumerate(FileNames):\n",
    "    print(i[0], i[1])"
   ]
  },
  {
   "cell_type": "markdown",
   "metadata": {},
   "source": [
    "Choose which file to run eval on"
   ]
  },
  {
   "cell_type": "code",
   "execution_count": null,
   "metadata": {
    "collapsed": false,
    "deletable": true,
    "editable": true
   },
   "outputs": [],
   "source": [
    "fileno = 0\n",
    "\n",
    "GTT = False\n",
    "\n",
    "ImportFile = os.path.join(FilePath, FileNames[fileno]) # Add path + name\n",
    "print(ImportFile)"
   ]
  },
  {
   "cell_type": "code",
   "execution_count": null,
   "metadata": {
    "collapsed": true,
    "deletable": true,
    "editable": true
   },
   "outputs": [],
   "source": [
    "SignalList = [\"Spd_Engine\",\n",
    "              \"Trq_Engine\",\n",
    "              \"S_Pos_Throttle\",\n",
    "              \"Conc_Soot483\",\n",
    "              \"Conc_NOx\",\n",
    "              \"se_NOxInLevel\",\n",
    "              \"tc_TorqueValue\",\n",
    "              \"Spd_Turbo_rpm\",\n",
    "              \"P_Cyl_Peak\"]\n",
    "\n",
    "#Specify limits for plots\n",
    "EngineSpeed = [500, 2000, 250]\n",
    "EngineTrq = [-400, 3000, 200]\n",
    "TurboSpeed = [25000,125000,25000]\n",
    "Pcyl = [8,22,1]"
   ]
  },
  {
   "cell_type": "markdown",
   "metadata": {},
   "source": [
    "Measurement setup"
   ]
  },
  {
   "cell_type": "code",
   "execution_count": null,
   "metadata": {
    "collapsed": false,
    "deletable": true,
    "editable": true
   },
   "outputs": [],
   "source": [
    "dt = 0.1 #10hz = 0.1, 25hz = 0.04 #time sample in meas\n",
    "\n",
    "# create variables\n",
    "# max target for time2torque\n",
    "time2trq = (np.zeros((4,3)))\n",
    "time2trq[:,0] = [500, 1000, 1500, 2500]\n",
    "time2trq[:,1] = [2.5, 2.5, 1.5, 1.5]\n",
    "time2trq[:,2] = [3.3, 3.3, 2, 2] \n",
    "time2trq = pd.DataFrame(data=time2trq)\n",
    "time2trq = time2trq.rename(columns={0: 'Engine_Speed', 1:'T_75_target', 2:'T_90_Target'})\n",
    "time2trq"
   ]
  },
  {
   "cell_type": "markdown",
   "metadata": {},
   "source": [
    "Functions\n"
   ]
  },
  {
   "cell_type": "code",
   "execution_count": null,
   "metadata": {
    "collapsed": true,
    "deletable": true,
    "editable": true
   },
   "outputs": [],
   "source": [
    "# function to linear interpolate time asf dt in two given points\n",
    "def linear_interp(array,value):\n",
    "    interp_axis = [0, dt] # create x-axis (time)\n",
    "    interp_points = [min((np.where(array > value)[0]))-1, min((np.where(array > value)[0]))] # find points below and above value\n",
    "    interp_values = [np.array(array)[interp_points[0]], np.array(array)[interp_points[1]]] # find measured points according to points above\n",
    "    interp_result = np.interp(value,interp_values,interp_axis) # interpolate, result is in dt\n",
    "    return  interp_result"
   ]
  },
  {
   "cell_type": "markdown",
   "metadata": {
    "collapsed": false,
    "deletable": true,
    "editable": true
   },
   "source": [
    "Import file"
   ]
  },
  {
   "cell_type": "code",
   "execution_count": null,
   "metadata": {
    "collapsed": false,
    "deletable": true,
    "editable": true
   },
   "outputs": [],
   "source": [
    "df_header = pd.read_csv(ImportFile, sep='\\t', low_memory=False, nrows=2) # header/desc and units with pandas\n",
    "df_header.head()"
   ]
  },
  {
   "cell_type": "code",
   "execution_count": null,
   "metadata": {
    "collapsed": true,
    "deletable": true,
    "editable": true
   },
   "outputs": [],
   "source": [
    "df_head_ECU = df_header #save original header with ECU in name"
   ]
  },
  {
   "cell_type": "code",
   "execution_count": null,
   "metadata": {
    "collapsed": false,
    "deletable": true,
    "editable": true
   },
   "outputs": [],
   "source": [
    "filter_col = [col for col in list(df_header) if col.startswith('ECU')] # find how many ECU parameters are in mes file"
   ]
  },
  {
   "cell_type": "code",
   "execution_count": null,
   "metadata": {
    "collapsed": false,
    "deletable": true,
    "editable": true
   },
   "outputs": [],
   "source": [
    "for filter_no in filter_col: # replace ECU with names\n",
    "    df_header = df_header.rename(columns = {filter_no:df_header[filter_no][0]})"
   ]
  },
  {
   "cell_type": "code",
   "execution_count": null,
   "metadata": {
    "collapsed": false,
    "deletable": true,
    "editable": true
   },
   "outputs": [],
   "source": [
    "header_list = df_header.columns #create a list of all available parameters"
   ]
  },
  {
   "cell_type": "markdown",
   "metadata": {
    "collapsed": false,
    "deletable": true,
    "editable": true
   },
   "source": [
    "Find index of each parameter in file"
   ]
  },
  {
   "cell_type": "code",
   "execution_count": null,
   "metadata": {
    "collapsed": false,
    "deletable": true,
    "editable": true
   },
   "outputs": [],
   "source": [
    "usecols = []\n",
    "for Signal in SignalList:\n",
    "    temp_index = np.where(header_list == Signal)[0][0]\n",
    "    usecols.append(temp_index)"
   ]
  },
  {
   "cell_type": "code",
   "execution_count": null,
   "metadata": {
    "collapsed": false,
    "deletable": true,
    "editable": true
   },
   "outputs": [],
   "source": [
    "usecols #index of each signal to use with import of all data"
   ]
  },
  {
   "cell_type": "code",
   "execution_count": null,
   "metadata": {
    "collapsed": false,
    "deletable": true,
    "editable": true
   },
   "outputs": [],
   "source": [
    "df= pd.read_csv(ImportFile, sep='\\t', low_memory=False, skiprows=[1,2], usecols=usecols) #import data with usecols\n",
    "df.head()"
   ]
  },
  {
   "cell_type": "code",
   "execution_count": null,
   "metadata": {
    "collapsed": false,
    "deletable": true,
    "editable": true
   },
   "outputs": [],
   "source": [
    "header_list2 = df.columns # create a second list to find which ECUs are imported"
   ]
  },
  {
   "cell_type": "code",
   "execution_count": null,
   "metadata": {
    "collapsed": false,
    "deletable": true,
    "editable": true
   },
   "outputs": [],
   "source": [
    "filter_col2 = list(set(header_list2)-set(SignalList)) # filter out ECU names only\n",
    "filter_col2"
   ]
  },
  {
   "cell_type": "code",
   "execution_count": null,
   "metadata": {
    "collapsed": false,
    "deletable": true,
    "editable": true
   },
   "outputs": [],
   "source": [
    "for filter_no in filter_col2: # rename ECU names in final import\n",
    "    df = df.rename(columns = {filter_no:df_head_ECU[filter_no][0]})\n",
    "    \n",
    "df.head()"
   ]
  },
  {
   "cell_type": "code",
   "execution_count": null,
   "metadata": {
    "collapsed": false,
    "deletable": true,
    "editable": true
   },
   "outputs": [],
   "source": [
    "# plot enginespeed and torque\n",
    "fig, ax1 = plt.subplots()\n",
    "\n",
    "ax1.set_title('Speed/Torque')\n",
    "\n",
    "ax1.plot(df.Spd_Engine[2:], 'b-')\n",
    "ax1.set_xlabel('Sample')\n",
    "ax1.set_ylim([500,2500])\n",
    "ax1.set_yticks(np.arange(500,2750,250))\n",
    "ax1.set_ylabel('Spd_Engine')\n",
    "\n",
    "\n",
    "ax2 = ax1.twinx()\n",
    "ax2.plot(df.Trq_Engine[2:], 'r-')\n",
    "ax2.set_ylim([0,max(df.Trq_Engine)+200])\n",
    "ax2.set_yticks(np.arange(0,1000,250))\n",
    "ax2.set_ylabel('Trq_Engine')\n",
    "\n",
    "plt.show()"
   ]
  },
  {
   "cell_type": "code",
   "execution_count": null,
   "metadata": {
    "collapsed": false,
    "deletable": true,
    "editable": true
   },
   "outputs": [],
   "source": [
    "# find where the response start/stop\n",
    "\n",
    "# engine respone is started when trhottle go from x% to 100%\n",
    "throttlechange = np.append(np.diff(df.S_Pos_Throttle),0)#lägg till 0 på slutet\n",
    "\n",
    "start = list(np.where(throttlechange > 40)[0])\n",
    "start_check = list(np.where(throttlechange < -5)[0])\n",
    "print(start,'\\n', start_check)\n",
    "\n",
    "plt.plot(throttlechange)\n",
    "plt.show"
   ]
  },
  {
   "cell_type": "code",
   "execution_count": null,
   "metadata": {
    "collapsed": false,
    "deletable": true,
    "editable": true
   },
   "outputs": [],
   "source": [
    "# statement to clean out dirty data\n",
    "\n",
    "if (start < start_check):\n",
    "    print('start 0 adjusted')\n",
    "    start = start[1:]\n",
    "    print(start)\n",
    "elif (df.Spd_Engine[0] < df.Spd_Engine[start[0]]):\n",
    "    print('Spd_Engine adjusted')\n",
    "    df.Spd_Engine[0:start[0]] = df.Spd_Engine[start[0]]\n",
    "\n"
   ]
  },
  {
   "cell_type": "code",
   "execution_count": null,
   "metadata": {
    "collapsed": false,
    "deletable": true,
    "editable": true
   },
   "outputs": [],
   "source": [
    "#find engine speeds tested\n",
    "\n",
    "speeds = list(round(df.Spd_Engine[start]/100)*100) #take away noise from engine speeds\n",
    "\n",
    "print(speeds)\n",
    "fig, ax1 = plt.subplots()\n",
    "ax1.plot(speeds, 'bo')\n",
    "ax1.set_xlabel('sample')\n",
    "ax1.set_ylim([500,2500])\n",
    "ax1.set_yticks(np.arange(500,2750,250))\n",
    "\n",
    "plt.show()"
   ]
  },
  {
   "cell_type": "code",
   "execution_count": null,
   "metadata": {
    "collapsed": false,
    "deletable": true,
    "editable": true
   },
   "outputs": [],
   "source": [
    "(df.Spd_Engine[start])"
   ]
  },
  {
   "cell_type": "code",
   "execution_count": null,
   "metadata": {
    "collapsed": false,
    "deletable": true,
    "editable": true
   },
   "outputs": [],
   "source": [
    "#smooth engine speed\n",
    "\n",
    "rounded_speed = (round(df.Spd_Engine/10))*10\n",
    "plt.plot(rounded_speed)\n",
    "plt.show\n",
    "\n",
    "# if engine speed during start is smaller than first LR speed\n",
    "\n",
    "#fix_speed = (np.where(rounded_speed == speeds[0])[0])\n",
    "#rounded_speed[0:max(fix_speed)] = speeds[0]\n",
    "#np.shape(rounded_speed)"
   ]
  },
  {
   "cell_type": "code",
   "execution_count": null,
   "metadata": {
    "collapsed": false,
    "deletable": true,
    "editable": true
   },
   "outputs": [],
   "source": [
    "# Define setspeed variable\n",
    "\n",
    "S_Spd_Engine = (np.zeros((1, len(df.Spd_Engine))))\n",
    "np.shape(S_Spd_Engine)"
   ]
  },
  {
   "cell_type": "code",
   "execution_count": null,
   "metadata": {
    "collapsed": false,
    "deletable": true,
    "editable": true
   },
   "outputs": [],
   "source": [
    "# create setspeed variable & stop time for each LR\n",
    "\n",
    "# create array where each LR stop\n",
    "stop = list(np.zeros((len(speeds))))\n",
    "\n",
    "for x in range(len(speeds)):\n",
    "    filtered_speed =  list(np.where(rounded_speed == speeds[x])[0])\n",
    "    S_Spd_Engine[0, min(filtered_speed):max(filtered_speed)] = speeds[x]\n",
    "    \n",
    "    stop[x] = max(list(np.where(rounded_speed == speeds[x])[0])) #create endpoint for each LR\n",
    "    \n",
    "plt.plot(S_Spd_Engine[0])\n",
    "plt.show"
   ]
  },
  {
   "cell_type": "code",
   "execution_count": null,
   "metadata": {
    "collapsed": false,
    "deletable": true,
    "editable": true
   },
   "outputs": [],
   "source": [
    "len(stop)"
   ]
  },
  {
   "cell_type": "code",
   "execution_count": null,
   "metadata": {
    "collapsed": false,
    "deletable": true,
    "editable": true
   },
   "outputs": [],
   "source": [
    "len(start)"
   ]
  },
  {
   "cell_type": "code",
   "execution_count": null,
   "metadata": {
    "collapsed": false,
    "deletable": true,
    "editable": true
   },
   "outputs": [],
   "source": [
    "len(speeds)"
   ]
  },
  {
   "cell_type": "code",
   "execution_count": null,
   "metadata": {
    "collapsed": false,
    "deletable": true,
    "editable": true
   },
   "outputs": [],
   "source": [
    "b = 0\n",
    "temp_start1 = np.zeros(round(len(start)/2))\n",
    "temp_start2 = np.zeros(round(len(start)/2))\n",
    "\n",
    "if (GTT == True):\n",
    "    for i in range(round(len(start)/2)):\n",
    "        temp_start1[i] = round(start[b])\n",
    "        temp_start2[i] = round(stop[b])\n",
    "        b += 2\n",
    "    #start = np.append(temp_start1,temp_start2)\n",
    "    start = temp_start1.tolist()\n",
    "    stop = temp_start2.tolist()"
   ]
  },
  {
   "cell_type": "code",
   "execution_count": null,
   "metadata": {
    "collapsed": false,
    "deletable": true,
    "editable": true
   },
   "outputs": [],
   "source": [
    "trqcalc = (np.zeros((len(speeds),14)))\n",
    "trqcalc[:,0] = np.transpose(speeds)\n",
    "\n",
    "for x in range(len(speeds)):\n",
    "    #temp_trq = df.Trq_Engine[start[x]:stop[x]]\n",
    "    trqcalc[x,1] = max(df.tc_TorqueValue[start[x]:stop[x]])\n",
    "    trqcalc[x,2] = trqcalc[x,1]*0.9\n",
    "    trqcalc[x,3] = trqcalc[x,1]*0.75\n",
    "    trqcalc[x,4] = trqcalc[x,1]*0.5\n",
    "    if (trqcalc[x,2] > max(df.Trq_Engine[start[x]:stop[x]])):\n",
    "        trqcalc[x,5] = 'nan'\n",
    "    else:\n",
    "        trqcalc[x,5] = (min((np.where(df.Trq_Engine[start[x]:stop[x]] > trqcalc[x,2])[0]))-1)*dt\n",
    "    trqcalc[x,6] = (min((np.where(df.Trq_Engine[start[x]:stop[x]] > trqcalc[x,3])[0]))-1)*dt\n",
    "    trqcalc[x,7] = (min((np.where(df.Trq_Engine[start[x]:stop[x]] > trqcalc[x,4])[0]))-1)*dt\n",
    "    if (trqcalc[x,2] > max(df.Trq_Engine[start[x]:stop[x]])):\n",
    "        trqcalc[x,8] = 'nan'\n",
    "    else:\n",
    "        trqcalc[x,8] = linear_interp(df.Trq_Engine[start[x]:stop[x]], trqcalc[x,2])\n",
    "    trqcalc[x,9] = linear_interp(df.Trq_Engine[start[x]:stop[x]], trqcalc[x,3])\n",
    "    trqcalc[x,10] = linear_interp(df.Trq_Engine[start[x]:stop[x]], trqcalc[x,4])     \n",
    "    trqcalc[x,11] = trqcalc[x,5]+trqcalc[x,8]\n",
    "    trqcalc[x,12] = trqcalc[x,6]+trqcalc[x,9]\n",
    "    trqcalc[x,13] = trqcalc[x,7]+trqcalc[x,10]"
   ]
  },
  {
   "cell_type": "code",
   "execution_count": null,
   "metadata": {
    "collapsed": false,
    "deletable": true,
    "editable": true
   },
   "outputs": [],
   "source": [
    "# create matrix to data into\n",
    "the_matrix = (np.zeros((len(speeds),21)))\n",
    "\n",
    "# put in engine speed into the matrix column1\n",
    "the_matrix[:,0] = np.transpose(speeds)\n",
    "the_matrix[:,11:14] = trqcalc[:,11:14]\n",
    "\n",
    "for x in range(len(speeds)):\n",
    "    the_matrix[x,1] = df.Trq_Engine[start[x]] # trq at start of response\n",
    "    the_matrix[x,2] = df.Trq_Engine[round(start[x]+0.3/dt)] # trq @0.3s\n",
    "    the_matrix[x,3] = df.Trq_Engine[round(start[x]+0.5/dt)] # trq @0.5s\n",
    "    the_matrix[x,4] = df.Trq_Engine[round(start[x]+1/dt)] # trq @1s\n",
    "    the_matrix[x,5] = df.Trq_Engine[round(start[x]+1.5/dt)] #trq @1.5s\n",
    "    the_matrix[x,6] = df.Trq_Engine[round(start[x]+2.0/dt)] #trq @2s\n",
    "    the_matrix[x,7] = df.Trq_Engine[round(start[x]+2.5/dt)] #trq @2.5s\n",
    "    the_matrix[x,8] = df.Trq_Engine[round(start[x]+3.0/dt)] #trq @3s\n",
    "    the_matrix[x,9] = df.Trq_Engine[round(start[x]+4.0/dt)] #trq @4s\n",
    "    the_matrix[x,10] = df.Trq_Engine[round(start[x]+15.0/dt)] #trq @15s\n",
    "    the_matrix[x,14] = max(df.Conc_Soot483[start[x]:stop[x]]) #peak smoke\n",
    "    the_matrix[x,15] = np.mean(df.Conc_Soot483[stop[x]-50:stop[x]]) #FL smoke\n",
    "    the_matrix[x,16] = np.trapz(df.Conc_Soot483[start[x]:stop[x]])/100 #integrated smoke / 100 for plot fitting\n",
    "    the_matrix[x,17] = max(df.Conc_NOx[start[x]:stop[x]]) #Peak NOx (rig)\n",
    "    the_matrix[x,18] = max(df.se_NOxInLevel[start[x]:stop[x]]) #Peak NOx ECU\n",
    "    the_matrix[x,19] = max(df.Spd_Turbo_rpm[start[x]:stop[x]]) #Max Turbo Speed\n",
    "    the_matrix[x,20] = max(df.P_Cyl_Peak[start[x]:stop[x]]) #Max Turbo Speed\n",
    "\n",
    "the_matrix = pd.DataFrame(data=the_matrix)\n",
    "\n",
    "the_matrix_renamed = the_matrix.rename(columns={0: 'Engine_Speed',\n",
    "                                                1: 'Trq_0s',\n",
    "                                                2: 'Trq_0.3s',\n",
    "                                                3: 'Trq_0.5s',\n",
    "                                                4: 'Trq_1s',\n",
    "                                                5:'Trq_1.5s',\n",
    "                                                6:'Trq_2s',\n",
    "                                                7:'Trq_2.5s',\n",
    "                                                8:'Trq_3s',\n",
    "                                                9:'Trq_4s',\n",
    "                                                10:'Trq_15s',\n",
    "                                                11:'t90%trq',\n",
    "                                                12:'t75%trq',\n",
    "                                                13:'t50%trq',\n",
    "                                                14:'Peak_Smoke_483',\n",
    "                                                15: 'FL_Smoke_483',\n",
    "                                                16:'Integrated smoke',\n",
    "                                                17:'Peak_Conc_NOx',\n",
    "                                                18:'Peak_se_NOxInLevel',\n",
    "                                                19:'Peak Turbospeed',\n",
    "                                                20:'Peak Cyl Pres'})\n",
    "\n",
    "the_matrix_dim = np.shape(the_matrix)\n",
    "max_row = the_matrix_dim[0]\n",
    "max_col = the_matrix_dim[1]-2\n",
    "\n"
   ]
  },
  {
   "cell_type": "code",
   "execution_count": null,
   "metadata": {
    "collapsed": false,
    "deletable": true,
    "editable": true
   },
   "outputs": [],
   "source": [
    "## Create a Pandas Excel writer using XlsxWriter as the engine.\n",
    "writefile = os.path.join(ResultPath,(str(os.path.splitext(FileNames[fileno])[0])+\".xlsx\"))\n",
    "writer = pd.ExcelWriter(writefile, engine='xlsxwriter')\n",
    "\n",
    "# Convert the dataframe to an XlsxWriter Excel object.\n",
    "the_matrix_renamed.to_excel(writer, sheet_name='Response')\n",
    "time2trq.to_excel(writer, sheet_name='Response', startcol=30)\n",
    "\n",
    "workbook  = writer.book\n",
    "worksheet = writer.sheets['Response']\n",
    "\n",
    "# Add some cell formats.\n",
    "format1 = workbook.add_format({'num_format': '###0'})\n",
    "format2 = workbook.add_format({'num_format': '#,##0.0'})\n",
    "\n",
    "\n",
    "# Configure cells in worksheet\n",
    "worksheet.set_column('B:B', 16, format1)\n",
    "worksheet.set_column('C:Q', 16, format2)\n",
    "worksheet.set_column('R:U', 16, format1)\n",
    "worksheet.set_column('V:V', 16, format2)\n",
    "\n",
    "# Create a chart object.\n",
    "chart = workbook.add_chart({'type': 'scatter', 'subtype': 'straight_with_markers'})\n",
    "\n",
    "# Configure the series of the chart from the dataframe data.\n",
    "\n",
    "for i in range(10):\n",
    "    col = 2 + i\n",
    "    chart.add_series({\n",
    "            'name':       ['Response', 0, col],\n",
    "            'categories': ['Response', 1, 1, max_row, 1],\n",
    "            'values':     ['Response', 1, col, max_row, col],        #'marker':     {'type': 'circle', 'size': 7, },\n",
    "        \n",
    "})\n",
    "\n",
    "chart.set_title({'name': 'Torque after time'})\n",
    "chart.set_x_axis({'name': 'Engine Speed (rpm)',\n",
    "                  'major_gridlines': {'visible': True},\n",
    "                  'min':EngineSpeed[0],\n",
    "                  'max':EngineSpeed[1],\n",
    "                  'major_unit':EngineSpeed[2],\n",
    "                  })\n",
    "chart.set_y_axis({'name': 'Engine Torque (Nm)',\n",
    "                  'major_gridlines': {'visible': True},\n",
    "                  'min':EngineTrq[0],\n",
    "                  'max':EngineTrq[1],\n",
    "                  'major_unit':EngineTrq[2],\n",
    "                  'crossing':EngineTrq[0]})\n",
    "\n",
    "chart.set_legend({\n",
    "    'position': 'right',})\n",
    "\n",
    "# Insert the chart into the worksheet.\n",
    "worksheet.insert_chart('B22', chart, {'x_scale': 1.5, 'y_scale': 1.5})\n",
    "\n",
    "# Create time2trq scatter plot\n",
    "\n",
    "chart = workbook.add_chart({'type': 'scatter', 'subtype': 'straight_with_markers'})\n",
    "\n",
    "for i in range(3):\n",
    "    col = 12 + i\n",
    "    chart.add_series({\n",
    "            'name':       ['Response', 0, col],\n",
    "            'categories': ['Response', 1, 1, max_row, 1],\n",
    "            'values':     ['Response', 1, col, max_row, col],    \n",
    "})\n",
    "\n",
    "# target times\n",
    "\n",
    "for i in range(2):\n",
    "    col = 32 + i\n",
    "    chart.add_series({\n",
    "            'name':       ['Response', 0, col],\n",
    "            'categories': ['Response', 1, 31, 4, 31],\n",
    "            'values':     ['Response', 1, col,4, col],\n",
    "            'marker': {'type': 'none'},\n",
    "            'line': {\n",
    "            'color': 'red',\n",
    "            'width': 2,\n",
    "            'dash_type': 'long_dash'}\n",
    "            })  \n",
    "    \n",
    "chart.set_title({'name': 'Time to torque'})\n",
    "chart.set_x_axis({'name': 'Engine Speed (rpm)',\n",
    "                  'major_gridlines': {'visible': True},\n",
    "                  'min':EngineSpeed[0],\n",
    "                  'max':EngineSpeed[1],\n",
    "                  'major_unit':EngineSpeed[2]})\n",
    "chart.set_y_axis({'name': 'Time (s)',\n",
    "                  'major_gridlines': {'visible': True},\n",
    "                  'min':0,\n",
    "                  'max':5,\n",
    "                  'major_unit':1})\n",
    "chart.set_legend({\n",
    "    'position': 'right',})\n",
    "\n",
    "# Insert the chart into the worksheet.\n",
    "worksheet.insert_chart('I22', chart, {'x_scale': 1.5, 'y_scale': 1.5})\n",
    "\n",
    "# Create SMOKE scatter plot\n",
    "\n",
    "chart = workbook.add_chart({'type': 'scatter', 'subtype': 'straight_with_markers'})\n",
    "\n",
    "for i in range(2):\n",
    "    col = 15 + i\n",
    "    chart.add_series({\n",
    "            'name':       ['Response', 0, col],\n",
    "            'categories': ['Response', 1, 1, max_row, 1],\n",
    "            'values':     ['Response', 1, col, max_row, col],    \n",
    "})\n",
    "\n",
    "chart.add_series({\n",
    "            'name':       ['Response', 0, 17],\n",
    "            'categories': ['Response', 1, 1, max_row, 1],\n",
    "            'values':     ['Response', 1, 17,max_row, 17],\n",
    "            'marker': {'type': 'automatic'},\n",
    "            'line': {\n",
    "            'width': 2,\n",
    "            'dash_type': 'long_dash'}\n",
    "            })  \n",
    "\n",
    "chart.set_title({'name': 'Smoke 439'})\n",
    "chart.set_x_axis({'name': 'Engine Speed (rpm)',\n",
    "                  'major_gridlines': {'visible': True},\n",
    "                  'min':EngineSpeed[0],\n",
    "                  'max':EngineSpeed[1],\n",
    "                  'major_unit':EngineSpeed[2]})\n",
    "\n",
    "chart.set_y_axis({'name': 'Smoke 439 (mg/kg)',\n",
    "                  'major_gridlines': {'visible': True},\n",
    "                  'min':0,\n",
    "                  'max':50,\n",
    "                  'major_unit':5})\n",
    "\n",
    "\n",
    "\n",
    "chart.set_legend({\n",
    "    'position': 'right',})\n",
    "\n",
    "# Insert the chart into the worksheet.\n",
    "worksheet.insert_chart('B45', chart, {'x_scale': 1.5, 'y_scale': 1.5})\n",
    "\n",
    "\n",
    "# Create Nox scatter plot\n",
    "\n",
    "chart = workbook.add_chart({'type': 'scatter', 'subtype': 'straight_with_markers'})\n",
    "\n",
    "for i in range(2):\n",
    "    col = 18 + i\n",
    "    chart.add_series({\n",
    "            'name':       ['Response', 0, col],\n",
    "            'categories': ['Response', 1, 1, max_row, 1],\n",
    "            'values':     ['Response', 1, col, max_row, col],    \n",
    "})\n",
    "\n",
    "chart.set_title({'name': 'NOx'})\n",
    "chart.set_x_axis({'name': 'Engine Speed (rpm)',\n",
    "                  'major_gridlines': {'visible': True},\n",
    "                  'min':EngineSpeed[0],\n",
    "                  'max':EngineSpeed[1],\n",
    "                  'major_unit':EngineSpeed[2]})\n",
    "chart.set_y_axis({'name': 'NOx (ppm)',\n",
    "                  'major_gridlines': {'visible': True},\n",
    "                  'min':1000,\n",
    "                  'max':1800,\n",
    "                  'major_unit':100})\n",
    "\n",
    "chart.set_legend({\n",
    "    'position': 'right',})\n",
    "\n",
    "# Insert the chart into the worksheet.\n",
    "worksheet.insert_chart('I45', chart, {'x_scale': 1.5, 'y_scale': 1.5})\n",
    "\n",
    "# Create Turbospeed Scatter Plot\n",
    "\n",
    "chart = workbook.add_chart({'type': 'scatter', 'subtype': 'straight_with_markers'})\n",
    "\n",
    "col = 20\n",
    "chart.add_series({\n",
    "            'name':       ['Response', 0, col],\n",
    "            'categories': ['Response', 1, 1, max_row, 1],\n",
    "            'values':     ['Response', 1, col, max_row, col],    \n",
    "})\n",
    "\n",
    "chart.set_title({'name': 'Turbo Speed'})\n",
    "chart.set_x_axis({'name': 'Engine Speed (rpm)',\n",
    "                  'major_gridlines': {'visible': True},\n",
    "                  'min':EngineSpeed[0],\n",
    "                  'max':EngineSpeed[1],\n",
    "                  'major_unit':EngineSpeed[2]})\n",
    "chart.set_y_axis({'name': 'Turbo Speed (rpm)',\n",
    "                  'major_gridlines': {'visible': True},\n",
    "                  'min':TurboSpeed[0],\n",
    "                  'max':TurboSpeed[1],\n",
    "                  'major_unit':TurboSpeed[2]})\n",
    "\n",
    "chart.set_legend({\n",
    "    'position': 'right',})\n",
    "\n",
    "# Insert the chart into the worksheet.\n",
    "worksheet.insert_chart('P22', chart, {'x_scale': 1.5, 'y_scale': 1.5})\n",
    "\n",
    "# Create P_Cyl_Peak Scatter Plot\n",
    "\n",
    "chart = workbook.add_chart({'type': 'scatter', 'subtype': 'straight_with_markers'})\n",
    "\n",
    "col = 21\n",
    "chart.add_series({\n",
    "            'name':       ['Response', 0, col],\n",
    "            'categories': ['Response', 1, 1, max_row, 1],\n",
    "            'values':     ['Response', 1, col, max_row, col],    \n",
    "})\n",
    "\n",
    "chart.set_title({'name': 'Peak Cylinder Pressure'})\n",
    "chart.set_x_axis({'name': 'Engine Speed (rpm)',\n",
    "                  'major_gridlines': {'visible': True},\n",
    "                  'min':EngineSpeed[0],\n",
    "                  'max':EngineSpeed[1],\n",
    "                  'major_unit':EngineSpeed[2]})\n",
    "chart.set_y_axis({'name': 'Peak Cylinder Pressure (MPa)',\n",
    "                  'major_gridlines': {'visible': True},\n",
    "                  'min':Pcyl[0],\n",
    "                  'max':Pcyl[1],\n",
    "                  'major_unit':Pcyl[2]})\n",
    "\n",
    "chart.set_legend({\n",
    "    'position': 'right',})\n",
    "\n",
    "# Insert the chart into the worksheet.\n",
    "worksheet.insert_chart('P45', chart, {'x_scale': 1.5, 'y_scale': 1.5})\n",
    "\n",
    "\n",
    "# Close the Pandas Excel writer and output the Excel file.\n",
    "writer.save()    "
   ]
  },
  {
   "cell_type": "code",
   "execution_count": null,
   "metadata": {
    "collapsed": false,
    "deletable": true,
    "editable": true
   },
   "outputs": [],
   "source": [
    "print ('The script took {0} second !'.format(time.time() - startTime))"
   ]
  }
 ],
 "metadata": {
  "kernelspec": {
   "display_name": "Python 3",
   "language": "python",
   "name": "python3"
  },
  "language_info": {
   "codemirror_mode": {
    "name": "ipython",
    "version": 3
   },
   "file_extension": ".py",
   "mimetype": "text/x-python",
   "name": "python",
   "nbconvert_exporter": "python",
   "pygments_lexer": "ipython3",
   "version": "3.6.0"
  }
 },
 "nbformat": 4,
 "nbformat_minor": 2
}
